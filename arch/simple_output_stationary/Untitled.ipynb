{
 "cells": [
  {
   "cell_type": "code",
   "execution_count": 1,
   "id": "09ea36a3",
   "metadata": {},
   "outputs": [],
   "source": [
    "from pytimeloop.config import ConfigDict\n",
    "from pytimeloop.app import MapperApp"
   ]
  },
  {
   "cell_type": "code",
   "execution_count": 2,
   "id": "2f5481d0",
   "metadata": {},
   "outputs": [],
   "source": [
    "config = ConfigDict.load_yaml_files(['arch/*.yaml', 'arch/components/*.yaml',\n",
    "                                     'constraints/*.yaml',\n",
    "                                     '../../layer_shapes/AlexNet/AlexNet_layer1.yaml',\n",
    "                                     'mapper/mapper.yaml'])"
   ]
  },
  {
   "cell_type": "code",
   "execution_count": null,
   "id": "b5100611",
   "metadata": {},
   "outputs": [],
   "source": [
    "mapper = MapperApp(config, '.')"
   ]
  }
 ],
 "metadata": {
  "kernelspec": {
   "display_name": "Python 3 (ipykernel)",
   "language": "python",
   "name": "python3"
  },
  "language_info": {
   "codemirror_mode": {
    "name": "ipython",
    "version": 3
   },
   "file_extension": ".py",
   "mimetype": "text/x-python",
   "name": "python",
   "nbconvert_exporter": "python",
   "pygments_lexer": "ipython3",
   "version": "3.8.12"
  }
 },
 "nbformat": 4,
 "nbformat_minor": 5
}
