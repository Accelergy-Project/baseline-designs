{
 "cells": [
  {
   "cell_type": "code",
   "execution_count": 3,
   "id": "929c5330",
   "metadata": {},
   "outputs": [],
   "source": [
    "from pytimeloop.config import ConfigDict\n",
    "from pytimeloop.app import MapperApp"
   ]
  },
  {
   "cell_type": "code",
   "execution_count": null,
   "id": "540243e6",
   "metadata": {},
   "outputs": [],
   "source": [
    "config = ConfigDict.load_yaml_files(['arch/eyeriss_like.yaml',\n",
    "                                     'arch/components/*.yaml',\n",
    "                                     '../../layer_shapes/AlexNet/AlexNet_layer1.yaml',\n",
    "                                     'constraints/*.yaml', 'mapper/mapper.yaml'])\n",
    "mapper = MapperApp(config, '.')"
   ]
  }
 ],
 "metadata": {
  "kernelspec": {
   "display_name": "Python 3 (ipykernel)",
   "language": "python",
   "name": "python3"
  },
  "language_info": {
   "codemirror_mode": {
    "name": "ipython",
    "version": 3
   },
   "file_extension": ".py",
   "mimetype": "text/x-python",
   "name": "python",
   "nbconvert_exporter": "python",
   "pygments_lexer": "ipython3",
   "version": "3.8.12"
  }
 },
 "nbformat": 4,
 "nbformat_minor": 5
}
